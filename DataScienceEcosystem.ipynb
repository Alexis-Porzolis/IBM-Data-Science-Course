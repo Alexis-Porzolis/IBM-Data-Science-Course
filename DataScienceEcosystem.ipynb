{
 "cells": [
  {
   "cell_type": "code",
   "execution_count": 6,
   "metadata": {},
   "outputs": [],
   "source": [
    "import pandas as pd"
   ]
  },
  {
   "cell_type": "markdown",
   "metadata": {},
   "source": [
    "Data Science Tools and Ecosystem"
   ]
  },
  {
   "cell_type": "markdown",
   "metadata": {},
   "source": [
    "In this notebook, Data Science Tools and Ecosystem are summarized."
   ]
  },
  {
   "cell_type": "markdown",
   "metadata": {},
   "source": [
    "Some of the popular languages that Data Scientists use are:\n"
   ]
  },
  {
   "cell_type": "code",
   "execution_count": 2,
   "metadata": {},
   "outputs": [
    {
     "name": "stdout",
     "output_type": "stream",
     "text": [
      "languages used in data science\n",
      "\n",
      "Python\n",
      "R\n",
      "SQL\n",
      "Java\n",
      "C++\n",
      "Scala\n",
      "Julia\n"
     ]
    }
   ],
   "source": [
    "ordered_list_languages = [\"Python\", \"R\", \"SQL\",\"Java\",\"C++\",\"Scala\",\"Julia\"]\n",
    "print(\"Languages used in data science\\n\")\n",
    "for i in ordered_list_languages:\n",
    "    print(i)"
   ]
  },
  {
   "cell_type": "markdown",
   "metadata": {},
   "source": [
    "Some of the commonly used libraries used by Data Scientists include:"
   ]
  },
  {
   "cell_type": "code",
   "execution_count": 3,
   "metadata": {},
   "outputs": [
    {
     "name": "stdout",
     "output_type": "stream",
     "text": [
      "Libraries used in data science\n",
      "\n",
      "Pandas\n",
      "Matplotlib\n",
      "Numpy\n",
      "Plotly\n",
      "Lattice\n"
     ]
    }
   ],
   "source": [
    "ordered_list_libraries = [\"Pandas\",\"Matplotlib\",\"Numpy\",\"Plotly\",\"Lattice\"]\n",
    "print(\"Libraries used in data science\\n\")\n",
    "for i in ordered_list_libraries:\n",
    "    print(i)"
   ]
  },
  {
   "cell_type": "markdown",
   "metadata": {},
   "source": [
    "Data Science Tools"
   ]
  },
  {
   "cell_type": "code",
   "execution_count": 16,
   "metadata": {},
   "outputs": [
    {
     "data": {
      "text/html": [
       "<div>\n",
       "<style scoped>\n",
       "    .dataframe tbody tr th:only-of-type {\n",
       "        vertical-align: middle;\n",
       "    }\n",
       "\n",
       "    .dataframe tbody tr th {\n",
       "        vertical-align: top;\n",
       "    }\n",
       "\n",
       "    .dataframe thead th {\n",
       "        text-align: right;\n",
       "    }\n",
       "</style>\n",
       "<table border=\"1\" class=\"dataframe\">\n",
       "  <thead>\n",
       "    <tr style=\"text-align: right;\">\n",
       "      <th></th>\n",
       "      <th>Data Science Tools</th>\n",
       "    </tr>\n",
       "  </thead>\n",
       "  <tbody>\n",
       "    <tr>\n",
       "      <th>0</th>\n",
       "      <td>Jupyter Notebook</td>\n",
       "    </tr>\n",
       "    <tr>\n",
       "      <th>1</th>\n",
       "      <td>RStudio</td>\n",
       "    </tr>\n",
       "    <tr>\n",
       "      <th>2</th>\n",
       "      <td>KNIME</td>\n",
       "    </tr>\n",
       "    <tr>\n",
       "      <th>3</th>\n",
       "      <td>Python</td>\n",
       "    </tr>\n",
       "  </tbody>\n",
       "</table>\n",
       "</div>"
      ],
      "text/plain": [
       "  Data Science Tools\n",
       "0   Jupyter Notebook\n",
       "1            RStudio\n",
       "2              KNIME\n",
       "3             Python"
      ]
     },
     "execution_count": 16,
     "metadata": {},
     "output_type": "execute_result"
    }
   ],
   "source": [
    "ds_tools = {\"Data Science Tools\": \n",
    "            [\"Jupyter Notebook\", \"RStudio\",\"KNIME\",\"Python\"]}\n",
    "ds_tools = pd.DataFrame(ds_tools)\n",
    "ds_tools"
   ]
  },
  {
   "cell_type": "markdown",
   "metadata": {},
   "source": [
    "Below are a few examples of evaluating arithmetic expressions in Python"
   ]
  },
  {
   "cell_type": "code",
   "execution_count": 20,
   "metadata": {},
   "outputs": [
    {
     "name": "stdout",
     "output_type": "stream",
     "text": [
      "Sum 20 and 10:\n",
      "30\n",
      "subtraction 20 and 10:\n",
      "10\n",
      "Division 20 and 10:\n",
      "2.0\n",
      "Mulutplication 20 and 10:\n",
      "200\n"
     ]
    }
   ],
   "source": [
    "a = 20\n",
    "b = 10\n",
    "\n",
    "print (f\"Sum {a} and {b}:\\n{a+b}\")\n",
    "print (f\"subtraction {a} and {b}:\\n{a-b}\")\n",
    "print (f\"Division {a} and {b}:\\n{a/b}\")\n",
    "print (f\"Mulutplication {a} and {b}:\\n{a*b}\")"
   ]
  },
  {
   "cell_type": "code",
   "execution_count": 23,
   "metadata": {},
   "outputs": [
    {
     "name": "stdout",
     "output_type": "stream",
     "text": [
      "This a simple arithmetic expression to mutiply then add integers\n",
      "\n",
      "(3*4)+5: 17\n"
     ]
    }
   ],
   "source": [
    "print(\"This a simple arithmetic expression to mutiply then add integers\\n\")\n",
    "print(f\"(3*4)+5: {(3*4)+5}\")"
   ]
  },
  {
   "cell_type": "code",
   "execution_count": 28,
   "metadata": {},
   "outputs": [
    {
     "name": "stdout",
     "output_type": "stream",
     "text": [
      " This will convert 200 minutes to hours by diving by 60\n",
      "200 minutes is : 3 hs aprox\n"
     ]
    }
   ],
   "source": [
    "print (\" This will convert 200 minutes to hours by diving by 60\")\n",
    "print(f\"200 minutes is : {round(200/60)} hs \")"
   ]
  },
  {
   "cell_type": "markdown",
   "metadata": {},
   "source": [
    "Objectives:\n",
    "List popular languages for Data Science\n",
    "Packages, APIs, data sets and models\n",
    "RStudio and GitHub\n",
    "Find common resources in Watson Studio and IBM Cloud Pak for Data\n",
    "Description of cloud-based Jupyter environments and their data science features."
   ]
  },
  {
   "cell_type": "markdown",
   "metadata": {},
   "source": [
    "Author: \n",
    "Alexis Eduardo Porzolis Requena"
   ]
  }
 ],
 "metadata": {
  "kernelspec": {
   "display_name": "Python 3",
   "language": "python",
   "name": "python3"
  },
  "language_info": {
   "codemirror_mode": {
    "name": "ipython",
    "version": 3
   },
   "file_extension": ".py",
   "mimetype": "text/x-python",
   "name": "python",
   "nbconvert_exporter": "python",
   "pygments_lexer": "ipython3",
   "version": "3.11.3"
  },
  "orig_nbformat": 4
 },
 "nbformat": 4,
 "nbformat_minor": 2
}
